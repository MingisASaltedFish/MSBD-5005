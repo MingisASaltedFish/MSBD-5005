{
 "cells": [
  {
   "cell_type": "code",
   "execution_count": 3,
   "id": "5bb115c8",
   "metadata": {
    "scrolled": true
   },
   "outputs": [
    {
     "name": "stdout",
     "output_type": "stream",
     "text": [
      "Requirement already satisfied: pandas in c:\\users\\24263\\anaconda3\\envs\\nlp\\lib\\site-packages (1.5.3)\n",
      "Requirement already satisfied: pytz>=2020.1 in c:\\users\\24263\\anaconda3\\envs\\nlp\\lib\\site-packages (from pandas) (2022.7)\n",
      "Requirement already satisfied: numpy>=1.21.0 in c:\\users\\24263\\anaconda3\\envs\\nlp\\lib\\site-packages (from pandas) (1.23.5)\n",
      "Requirement already satisfied: python-dateutil>=2.8.1 in c:\\users\\24263\\anaconda3\\envs\\nlp\\lib\\site-packages (from pandas) (2.8.2)\n",
      "Requirement already satisfied: six>=1.5 in c:\\users\\24263\\anaconda3\\envs\\nlp\\lib\\site-packages (from python-dateutil>=2.8.1->pandas) (1.16.0)\n"
     ]
    }
   ],
   "source": [
    "!pip install pandas"
   ]
  },
  {
   "cell_type": "code",
   "execution_count": 4,
   "id": "8826e9cb",
   "metadata": {},
   "outputs": [
    {
     "ename": "ModuleNotFoundError",
     "evalue": "No module named 'pandas'",
     "output_type": "error",
     "traceback": [
      "\u001b[1;31m---------------------------------------------------------------------------\u001b[0m",
      "\u001b[1;31mModuleNotFoundError\u001b[0m                       Traceback (most recent call last)",
      "Cell \u001b[1;32mIn[4], line 2\u001b[0m\n\u001b[0;32m      1\u001b[0m \u001b[38;5;28;01mimport\u001b[39;00m \u001b[38;5;21;01mnumpy\u001b[39;00m \u001b[38;5;28;01mas\u001b[39;00m \u001b[38;5;21;01mnp\u001b[39;00m\n\u001b[1;32m----> 2\u001b[0m \u001b[38;5;28;01mimport\u001b[39;00m \u001b[38;5;21;01mpandas\u001b[39;00m \u001b[38;5;28;01mas\u001b[39;00m \u001b[38;5;21;01mpd\u001b[39;00m\n\u001b[0;32m      3\u001b[0m \u001b[38;5;28;01mimport\u001b[39;00m \u001b[38;5;21;01mmatplotlib\u001b[39;00m\u001b[38;5;21;01m.\u001b[39;00m\u001b[38;5;21;01mpyplot\u001b[39;00m \u001b[38;5;28;01mas\u001b[39;00m \u001b[38;5;21;01mplt\u001b[39;00m\n",
      "\u001b[1;31mModuleNotFoundError\u001b[0m: No module named 'pandas'"
     ]
    }
   ],
   "source": [
    "import numpy as np\n",
    "import pandas as pd\n",
    "import matplotlib.pyplot as plt"
   ]
  },
  {
   "cell_type": "code",
   "execution_count": null,
   "id": "5257acdb",
   "metadata": {},
   "outputs": [],
   "source": [
    "import nltk\n",
    "from nltk.corpus import stopwords\n",
    "from nltk.tokenize import word_tokenize"
   ]
  },
  {
   "cell_type": "code",
   "execution_count": null,
   "id": "2102ecfd",
   "metadata": {},
   "outputs": [],
   "source": [
    "df= pd.read_csv('kindle_reviews.csv')"
   ]
  },
  {
   "cell_type": "code",
   "execution_count": null,
   "id": "891b8a88",
   "metadata": {},
   "outputs": [],
   "source": [
    "df_A = df.head(1000)"
   ]
  },
  {
   "cell_type": "code",
   "execution_count": null,
   "id": "75a6cef4",
   "metadata": {},
   "outputs": [],
   "source": [
    "#df.head(10)"
   ]
  },
  {
   "cell_type": "code",
   "execution_count": null,
   "id": "56f6629a",
   "metadata": {},
   "outputs": [],
   "source": [
    "#np.array(df)[0]"
   ]
  },
  {
   "cell_type": "code",
   "execution_count": null,
   "id": "cc23a553",
   "metadata": {},
   "outputs": [],
   "source": [
    "#A = np.array(df)[0][4]\n",
    "#A"
   ]
  },
  {
   "cell_type": "code",
   "execution_count": null,
   "id": "9197f3c7",
   "metadata": {},
   "outputs": [],
   "source": [
    "#type(A)"
   ]
  },
  {
   "cell_type": "code",
   "execution_count": null,
   "id": "bfb873dd",
   "metadata": {},
   "outputs": [],
   "source": [
    "#for i in range(10):\n",
    "#    print(np.array(df)[i][4])\n",
    "    "
   ]
  },
  {
   "cell_type": "code",
   "execution_count": null,
   "id": "a362f02a",
   "metadata": {},
   "outputs": [],
   "source": [
    "test_1 = np.array(df_A)[0][4]\n",
    "test_1"
   ]
  },
  {
   "cell_type": "code",
   "execution_count": null,
   "id": "8949bcd8",
   "metadata": {},
   "outputs": [],
   "source": [
    "list_AAA = []\n",
    "for i in range(len(df_A)):\n",
    "    df_AA = np.array(df_A)[i][2]\n",
    "    list_AAA.append(df_AA)"
   ]
  },
  {
   "cell_type": "code",
   "execution_count": null,
   "id": "0034b596",
   "metadata": {},
   "outputs": [],
   "source": [
    "#print(stopwords.words('english'))"
   ]
  },
  {
   "cell_type": "code",
   "execution_count": null,
   "id": "5dce971f",
   "metadata": {},
   "outputs": [],
   "source": [
    "example_sent = test_1\n",
    "  \n",
    "stop_words = set(stopwords.words('english'))\n",
    "  \n",
    "word_tokens = word_tokenize(example_sent)\n",
    "# converts the words in word_tokens to lower case and then checks whether \n",
    "#they are present in stop_words or not\n",
    "filtered_sentence = [w for w in word_tokens if not w.lower() in stop_words]\n",
    "#with no lower case conversion\n",
    "filtered_sentence = []\n",
    "  \n",
    "for w in word_tokens:\n",
    "    if w not in stop_words:\n",
    "        filtered_sentence.append(w)\n",
    "  \n",
    "before = len(word_tokens)\n",
    "after = len(filtered_sentence)\n",
    "\n",
    "TTR = after/before\n",
    "TTR"
   ]
  },
  {
   "cell_type": "code",
   "execution_count": null,
   "id": "8e7a9f96",
   "metadata": {},
   "outputs": [],
   "source": [
    "# use english set stopwords to make analysis\n",
    "def type_token_ratio(review_str):\n",
    "    example_sent = review_str\n",
    "    stop_words = set(stopwords.words('english'))\n",
    "    word_tokens = word_tokenize(example_sent)\n",
    "    filtered_sentence = [w for w in word_tokens if not w.lower() in stop_words]\n",
    "    filtered_sentence = []\n",
    "    for w in word_tokens:\n",
    "        if w not in stop_words:\n",
    "            filtered_sentence.append(w)\n",
    "    before = len(word_tokens)\n",
    "    after = len(filtered_sentence)\n",
    "    TTR = after/before\n",
    "    return TTR"
   ]
  },
  {
   "cell_type": "code",
   "execution_count": null,
   "id": "b276896e",
   "metadata": {},
   "outputs": [],
   "source": [
    "type_token_ratio(test_1)"
   ]
  },
  {
   "cell_type": "code",
   "execution_count": null,
   "id": "a3dbc4fb",
   "metadata": {},
   "outputs": [],
   "source": [
    "#test_i = np.array(df_A)[i][4]\n",
    "list_A = []\n",
    "for i in range(len(df_A)):\n",
    "    test_i = np.array(df_A)[i][4]\n",
    "    list_A.append(type_token_ratio(test_i))\n",
    "    \n",
    "\n",
    "list_index = []\n",
    "for j in range(len(df_A)):\n",
    "    list_index.append(j)"
   ]
  },
  {
   "cell_type": "code",
   "execution_count": null,
   "id": "f7f16171",
   "metadata": {},
   "outputs": [],
   "source": [
    "len(list_A) -len(list_index)"
   ]
  },
  {
   "cell_type": "code",
   "execution_count": null,
   "id": "b76faab2",
   "metadata": {},
   "outputs": [],
   "source": [
    "l1=plt.scatter(list_index,list_A)"
   ]
  },
  {
   "cell_type": "code",
   "execution_count": null,
   "id": "2136dfc3",
   "metadata": {},
   "outputs": [],
   "source": [
    "def overall_fun(size,useful):\n",
    "    return"
   ]
  },
  {
   "cell_type": "code",
   "execution_count": null,
   "id": "6f41f8a7",
   "metadata": {},
   "outputs": [],
   "source": [
    "def choose_data(dataset,bound):\n",
    "    list_pair = []\n",
    "    for i in range(len(dataset)):\n",
    "        text_inf_i = np.array(dataset)[i][4]\n",
    "        if type_token_ratio(text_inf_i) >= bound:\n",
    "            list_pair.append([i,type_token_ratio(text_inf_i),np.array(dataset)[i][4]])\n",
    "    return list_pair"
   ]
  },
  {
   "cell_type": "code",
   "execution_count": null,
   "id": "90a4789a",
   "metadata": {},
   "outputs": [],
   "source": [
    "#choose_data(df_A,0.8)"
   ]
  },
  {
   "cell_type": "code",
   "execution_count": null,
   "id": "aee9301f",
   "metadata": {},
   "outputs": [],
   "source": [
    "def choose_data_detail(dataset,bound):\n",
    "    list_pair = []\n",
    "    for i in range(len(dataset)):\n",
    "        #选取句子有效词比值\n",
    "        text_inf_i = np.array(dataset)[i][4]\n",
    "        \n",
    "        \n",
    "        #调取点赞数列表\n",
    "        text_inf_v = np.array(dataset)[i][2]\n",
    "        AA = list(text_inf_v)\n",
    "        A = AA[1:5]\n",
    "        vote = A[0]\n",
    "        all_vote = A[-1]\n",
    "        if all_vote != \" \" and all_vote != \",\":\n",
    "            list_v = [int(vote),int(all_vote)]\n",
    "        \n",
    "        \n",
    "        #获取总体评分\n",
    "        text_grade = np.array(dataset)[i][3]\n",
    "        \n",
    "        if type_token_ratio(text_inf_i) >= bound:\n",
    "            list_pair.append([i,  type_token_ratio(text_inf_i), list_v,  text_grade ,np.array(dataset)[i][4]])\n",
    "            \n",
    "    return list_pair"
   ]
  },
  {
   "cell_type": "code",
   "execution_count": null,
   "id": "bdd9f0a6",
   "metadata": {},
   "outputs": [],
   "source": [
    "#标记为一次筛选结果\n",
    "sub_res = choose_data_detail(df_A,0.65)"
   ]
  },
  {
   "cell_type": "code",
   "execution_count": null,
   "id": "31b6640d",
   "metadata": {},
   "outputs": [],
   "source": [
    "#根据result的结果，继续删减\n",
    "for i in range(len(sub_res)):\n",
    "    if int(sub_res[i][2][0]) != 0 and sub_res[i][2][1] != \" \" and sub_res[i][2][1] != \",\":\n",
    "        print(sub_res[i][:-1])"
   ]
  },
  {
   "cell_type": "code",
   "execution_count": null,
   "id": "6d75334f",
   "metadata": {},
   "outputs": [],
   "source": [
    "sub_res_all = choose_data_detail(df_A,0.8)\n",
    "for i in range(len(sub_res_all)):\n",
    "    A = 0\n",
    "    if int(sub_res[i][2][0]) >= 3 and sub_res[i][2][1] != \" \" and sub_res[i][2][1] != \",\":\n",
    "        A += 1\n",
    "        print(A)"
   ]
  },
  {
   "cell_type": "code",
   "execution_count": null,
   "id": "a5b2b180",
   "metadata": {},
   "outputs": [],
   "source": []
  }
 ],
 "metadata": {
  "kernelspec": {
   "display_name": "Python 3 (ipykernel)",
   "language": "python",
   "name": "python3"
  },
  "language_info": {
   "codemirror_mode": {
    "name": "ipython",
    "version": 3
   },
   "file_extension": ".py",
   "mimetype": "text/x-python",
   "name": "python",
   "nbconvert_exporter": "python",
   "pygments_lexer": "ipython3",
   "version": "3.11.1"
  }
 },
 "nbformat": 4,
 "nbformat_minor": 5
}
